{
 "cells": [
  {
   "cell_type": "markdown",
   "id": "69e7cc6d",
   "metadata": {},
   "source": [
    "\n",
    "# LangGraph Basics (with Gemini) — Tiny, Teachable Notebook\n",
    "\n",
    "This mini-notebook teaches the **core ideas of LangGraph** in the shortest possible way.\n",
    "You’ll build a tiny graph of nodes that:\n",
    "1) takes a user question  \n",
    "2) routes it either to a **calculator** (for simple math) or to **Gemini** (for general Q&A)  \n",
    "3) **polishes** the final answer\n",
    "\n",
    "> **Why LangGraph?** It helps you structure AI apps as **graphs of steps**, rather than one big prompt. That means clearer logic, easier debugging, and better control.\n"
   ]
  },
  {
   "cell_type": "markdown",
   "id": "0d495c4f",
   "metadata": {},
   "source": [
    "\n",
    "## 0) Setup\n",
    "\n",
    "- **Gemini**: we'll use `google-generativeai` directly (no LangChain required, keeping it simple).  \n",
    "- **LangGraph**: lightweight graph engine to wire up nodes → edges.\n",
    "\n",
    "Run the cell below once to install dependencies (uncomment if needed).\n"
   ]
  },
  {
   "cell_type": "code",
   "execution_count": 1,
   "id": "99f78bd8",
   "metadata": {},
   "outputs": [],
   "source": [
    "\n",
    "# If running on a fresh environment, uncomment the next line:\n",
    "!pip -q install -r requirements.txt\n"
   ]
  },
  {
   "cell_type": "markdown",
   "id": "63f1bcfb",
   "metadata": {},
   "source": [
    "\n",
    "## 1) Add your Gemini API key\n",
    "\n",
    "Set `GOOGLE_API_KEY` as an environment variable.  \n",
    "You can paste it inline just for this notebook (okay for learning), or set it in your shell.\n"
   ]
  },
  {
   "cell_type": "code",
   "execution_count": 2,
   "id": "62e53c7d",
   "metadata": {},
   "outputs": [
    {
     "name": "stdout",
     "output_type": "stream",
     "text": [
      "✅ GOOGLE_API_KEY detected\n"
     ]
    }
   ],
   "source": [
    "\n",
    "import os\n",
    "\n",
    "# OPTION A: put your key here (for demo only)\n",
    "# os.environ[\"GOOGLE_API_KEY\"] = \"your-key-here\"\n",
    "\n",
    "# OPTION B (recommended): ensure it's already set in your environment\n",
    "assert \"GOOGLE_API_KEY\" in os.environ, \"Please set GOOGLE_API_KEY (export GOOGLE_API_KEY=...) before running.\"\n",
    "print(\"✅ GOOGLE_API_KEY detected\")\n"
   ]
  },
  {
   "cell_type": "markdown",
   "id": "9da468dc",
   "metadata": {},
   "source": [
    "\n",
    "## 2) Imports and tiny helpers\n",
    "We'll keep **state** as a simple Python `dict`. Nodes read the dict and return an updated dict.\n"
   ]
  },
  {
   "cell_type": "code",
   "execution_count": 3,
   "id": "178f4142",
   "metadata": {},
   "outputs": [],
   "source": [
    "\n",
    "from typing import TypedDict, Optional, Literal\n",
    "from typing_extensions import NotRequired\n",
    "from pydantic import BaseModel\n",
    "import google.generativeai as genai\n",
    "import os\n",
    "\n",
    "# Configure Gemini\n",
    "genai.configure(api_key=os.environ[\"GOOGLE_API_KEY\"])\n",
    "GEMINI_MODEL = \"gemini-2.5-flash\"  # fast & cheap, great for demos\n",
    "model = genai.GenerativeModel(GEMINI_MODEL)\n",
    "\n",
    "# Our app \"state\" (LangGraph uses dict-like state; TypedDict here is just for clarity)\n",
    "class State(TypedDict, total=False):\n",
    "    question: str\n",
    "    route: NotRequired[Literal[\"calc\", \"llm\"]]\n",
    "    draft: NotRequired[str]\n",
    "    final: NotRequired[str]\n"
   ]
  },
  {
   "cell_type": "markdown",
   "id": "b1353b4d",
   "metadata": {},
   "source": [
    "\n",
    "## 3) Define nodes (plain Python functions)\n",
    "\n",
    "Each **node**:\n",
    "- accepts the current `state` (`dict`)\n",
    "- returns a (possibly) updated `state`\n",
    "\n",
    "We'll make 4 nodes:\n",
    "1. **router**: decides `\"calc\"` vs `\"llm\"`  \n",
    "2. **calc_node**: does simple integer math if the user writes `math: 2+3`  \n",
    "3. **llm_node**: asks Gemini to answer concisely  \n",
    "4. **polish_node**: asks Gemini to shorten & tidy the final answer\n"
   ]
  },
  {
   "cell_type": "code",
   "execution_count": 4,
   "id": "3a4db5fc",
   "metadata": {},
   "outputs": [],
   "source": [
    "\n",
    "import re\n",
    "\n",
    "def router(state: State) -> State:\n",
    "    \"\"\"Decide where to go next based on the question format.\"\"\"\n",
    "    q = (state.get(\"question\") or \"\").strip().lower()\n",
    "    # Simple rule: if it starts with 'math:' we go to the calculator\n",
    "    if q.startswith(\"math:\"):\n",
    "        state[\"route\"] = \"calc\"\n",
    "    else:\n",
    "        state[\"route\"] = \"llm\"\n",
    "    return state\n",
    "\n",
    "\n",
    "def calc_node(state: State) -> State:\n",
    "    \"\"\"Very naive calculator: only handles integers and + - * / .\"\"\"\n",
    "    expr = state[\"question\"].split(\"math:\", 1)[-1].strip()\n",
    "    # Keep it safe: allow only digits and basic ops\n",
    "    if not re.fullmatch(r\"[0-9+\\-*/ ()]+\", expr):\n",
    "        state[\"draft\"] = \"Sorry, I only support simple integer math like 'math: 2+3*4'.\"\n",
    "        return state\n",
    "\n",
    "    try:\n",
    "        # Evaluate safely by limiting builtins\n",
    "        result = eval(expr, {\"__builtins__\": {}}, {})\n",
    "        state[\"draft\"] = f\"Result: {result}\"\n",
    "    except Exception:\n",
    "        state[\"draft\"] = \"I couldn't evaluate that expression.\"\n",
    "    return state\n",
    "\n",
    "\n",
    "def llm_node(state: State) -> State:\n",
    "    \"\"\"Ask Gemini for a short, clear answer.\"\"\"\n",
    "    q = state.get(\"question\", \"\")\n",
    "    prompt = (\n",
    "        \"Answer the user's question in 2-3 short sentences. Be clear and friendly.\\n\\n\"\n",
    "        f\"User question: {q}\"\n",
    "    )\n",
    "    resp = model.generate_content(prompt)\n",
    "    state[\"draft\"] = (getattr(resp, \"text\", \"\") or \"\").strip()\n",
    "    return state\n",
    "\n",
    "\n",
    "def polish_node(state: State) -> State:\n",
    "    \"\"\"Light polishing pass to make answers tighter.\"\"\"\n",
    "    draft = state.get(\"draft\", \"\")\n",
    "    prompt = (\n",
    "        \"Rewrite the following answer to be clear, concise, and beginner-friendly. \"\n",
    "        \"Limit to ~2 sentences.\\n\\nAnswer:\\n\"\n",
    "        f\"{draft}\"\n",
    "    )\n",
    "    resp = model.generate_content(prompt)\n",
    "    state[\"final\"] = (getattr(resp, \"text\", \"\") or draft).strip()\n",
    "    return state\n"
   ]
  },
  {
   "cell_type": "markdown",
   "id": "c8a8f9aa",
   "metadata": {},
   "source": [
    "\n",
    "## 4) Build the graph\n",
    "\n",
    "LangGraph wires nodes together with edges. We'll create a small graph:\n",
    "```\n",
    "input → router → (calc_node or llm_node) → polish_node → END\n",
    "```\n"
   ]
  },
  {
   "cell_type": "code",
   "execution_count": 5,
   "id": "6e831d9a",
   "metadata": {},
   "outputs": [
    {
     "name": "stdout",
     "output_type": "stream",
     "text": [
      "✅ Graph compiled\n"
     ]
    },
    {
     "data": {
      "image/png": "[encoded data removed]",
      "text/plain": [
       "<IPython.core.display.Image object>"
      ]
     },
     "metadata": {},
     "output_type": "display_data"
    }
   ],
   "source": [
    "from langgraph.graph import StateGraph, END\n",
    "\n",
    "graph = StateGraph(State)\n",
    "\n",
    "graph.add_node(\"router\", router)\n",
    "graph.add_node(\"calc_node\", calc_node)\n",
    "graph.add_node(\"llm_node\", llm_node)\n",
    "graph.add_node(\"polish_node\", polish_node)\n",
    "\n",
    "graph.set_entry_point(\"router\")\n",
    "\n",
    "# 1) Return a label (not a node name)\n",
    "def choose_next(state: State) -> str:\n",
    "    return \"calc\" if state.get(\"route\") == \"calc\" else \"llm\"\n",
    "\n",
    "# 2) Tell LangGraph what each label maps to\n",
    "graph.add_conditional_edges(\n",
    "    \"router\",\n",
    "    choose_next,\n",
    "    path_map={\n",
    "        \"calc\": \"calc_node\",\n",
    "        \"llm\": \"llm_node\",\n",
    "    },\n",
    ")\n",
    "\n",
    "# Linear edges\n",
    "graph.add_edge(\"calc_node\", \"polish_node\")\n",
    "graph.add_edge(\"llm_node\", \"polish_node\")\n",
    "graph.add_edge(\"polish_node\", END)\n",
    "\n",
    "app = graph.compile()\n",
    "print(\"✅ Graph compiled\")\n",
    "\n",
    "# Visualize\n",
    "from IPython.display import Image, display\n",
    "display(Image(data=app.get_graph().draw_mermaid_png()))\n"
   ]
  },
  {
   "cell_type": "markdown",
   "id": "420a91f0",
   "metadata": {},
   "source": [
    "\n",
    "## 5) Try it out\n",
    "\n",
    "The smart router now uses LLM to intelligently decide routing:\n",
    "- **Math questions** (goes to the calculator branch)\n",
    "- **General questions** (goes to Gemini)\n",
    "\n",
    "Test with natural language - no need for \"math:\" prefix!\n"
   ]
  },
  {
   "cell_type": "code",
   "execution_count": 6,
   "id": "a030b51d",
   "metadata": {},
   "outputs": [
    {
     "name": "stdout",
     "output_type": "stream",
     "text": [
      "Question: math: 2+3*4\n",
      "Processing...\n",
      "{'router': {'question': 'math: 2+3*4', 'route': 'calc'}}\n",
      "{'calc_node': {'question': 'math: 2+3*4', 'route': 'calc', 'draft': 'Result: 14'}}\n"
     ]
    },
    {
     "name": "stderr",
     "output_type": "stream",
     "text": [
      "WARNING: All log messages before absl::InitializeLog() is called are written to STDERR\n",
      "E0000 00:00:1761085696.336052 1019526 alts_credentials.cc:93] ALTS creds ignored. Not running on GCP and untrusted ALTS is not enabled.\n"
     ]
    },
    {
     "name": "stdout",
     "output_type": "stream",
     "text": [
      "{'polish_node': {'question': 'math: 2+3*4', 'route': 'calc', 'draft': 'Result: 14', 'final': 'The final answer is 14.'}}\n",
      "\n",
      "Final answer: The final answer is 14.\n"
     ]
    }
   ],
   "source": [
    "\n",
    "# Example A: math route (now using natural language)\n",
    "state: State = {\"question\": \"math: 2+3*4\"}\n",
    "print(\"Question:\", state[\"question\"])\n",
    "print(\"Processing...\")\n",
    "for s in app.stream(state):\n",
    "    # app.stream yields step-by-step states; we print incremental updates\n",
    "    print(s)\n",
    "\n",
    "print(\"\\nFinal answer:\", s['polish_node'].get(\"final\"))\n"
   ]
  },
  {
   "cell_type": "code",
   "execution_count": 7,
   "id": "8e2b80ba",
   "metadata": {},
   "outputs": [
    {
     "name": "stdout",
     "output_type": "stream",
     "text": [
      "Question: What is LangGraph in simple words?\n",
      "Processing...\n",
      "{'router': {'question': 'What is LangGraph in simple words?', 'route': 'llm'}}\n",
      "{'llm_node': {'question': 'What is LangGraph in simple words?', 'route': 'llm', 'draft': 'LangGraph is a library that helps you build sophisticated applications with Large Language Models (LLMs) by defining them as graphs. It allows you to specify a series of steps, make decisions based on outputs, and even create cycles where your application can revisit previous steps. This makes it easier to build robust, stateful agents and multi-actor systems that can perform complex tasks over time.'}}\n",
      "{'polish_node': {'question': 'What is LangGraph in simple words?', 'route': 'llm', 'draft': 'LangGraph is a library that helps you build sophisticated applications with Large Language Models (LLMs) by defining them as graphs. It allows you to specify a series of steps, make decisions based on outputs, and even create cycles where your application can revisit previous steps. This makes it easier to build robust, stateful agents and multi-actor systems that can perform complex tasks over time.', 'final': 'LangGraph helps you build advanced AI applications using Large Language Models (LLMs) by letting you design their actions as a series of connected steps, much like a flowchart. This allows your AI to make decisions, revisit previous steps, and reliably handle complex tasks over time.'}}\n",
      "\n",
      "Final answer: LangGraph helps you build advanced AI applications using Large Language Models (LLMs) by letting you design their actions as a series of connected steps, much like a flowchart. This allows your AI to make decisions, revisit previous steps, and reliably handle complex tasks over time.\n"
     ]
    }
   ],
   "source": [
    "\n",
    "# Example B: llm route\n",
    "state: State = {\"question\": \"What is LangGraph in simple words?\"}\n",
    "print(\"Question:\", state[\"question\"])\n",
    "print(\"Processing...\")\n",
    "for s in app.stream(state):\n",
    "    print(s)\n",
    "\n",
    "print(\"\\nFinal answer:\", s['polish_node'].get(\"final\"))\n"
   ]
  },
  {
   "cell_type": "markdown",
   "id": "5a72cd4b",
   "metadata": {},
   "source": [
    "\n",
    "## 6) What you learned\n",
    "\n",
    "- **State** is just a dict that flows through nodes. Each node *reads* and *updates* it.  \n",
    "- **Nodes** are plain Python functions — easy to test (no magic).  \n",
    "- **Routing** lets you branch logic (like a mini workflow engine).  \n",
    "- **LLM calls** can live in any node (we used Gemini).  \n",
    "- **Composition**: combine tools (calc) + LLM for predictable, explainable apps.\n",
    "\n",
    "**Next steps to explore:**\n",
    "- Add a **'web_search'** node for retrieval before the LLM step.  \n",
    "- Add a **human approval** node (interrupt + resume) before publishing the answer.  \n",
    "- Add **memory** (append conversation history to `state`).\n",
    "\n",
    "Happy hacking! 🎉\n"
   ]
  },
  {
   "cell_type": "markdown",
   "id": "b58219cc",
   "metadata": {},
   "source": [
    "## 7) Langgraph doesn't have a limit (Few examples)\n",
    "\n",
    "![Example 1](https://files.realpython.com/media/Screenshot_2025-03-01_at_11.41.54_AM.7f75d6337550.png)\n",
    "\n",
    "\n",
    "![Example 2](https://langchain-ai.github.io/langgraph/how-tos/assets/graph_api_image_10.png)\n"
   ]
  },
  {
   "cell_type": "markdown",
   "id": "7d138313",
   "metadata": {},
   "source": []
  }
 ],
 "metadata": {
  "kernelspec": {
   "display_name": "venv",
   "language": "python",
   "name": "python3"
  },
  "language_info": {
   "codemirror_mode": {
    "name": "ipython",
    "version": 3
   },
   "file_extension": ".py",
   "mimetype": "text/x-python",
   "name": "python",
   "nbconvert_exporter": "python",
   "pygments_lexer": "ipython3",
   "version": "3.10.11"
  }
 },
 "nbformat": 4,
 "nbformat_minor": 5
}
